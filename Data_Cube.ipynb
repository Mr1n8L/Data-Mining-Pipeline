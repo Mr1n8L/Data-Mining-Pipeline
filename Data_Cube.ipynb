{
 "cells": [
  {
   "cell_type": "markdown",
   "metadata": {},
   "source": [
    "Data Cube\n",
    "Name:\n",
    "\n",
    "In this assignment, you would be reading a dataset with multiple attributes and visualize 3 attributes from the dataset in the form a data cube. More information is provided below about the dataset and your tasks for this assignment. Remember that you are encouraged to discuss the problems with your instructors and classmates, but you must write all code and solutions on your own.\n",
    "\n",
    "The rules to be followed for this assignment are:\n",
    "\n",
    "Do NOT load additional packages beyond what we've shared in the cells below.\n",
    "Some problems with code may be autograded. If we provide a function or class API do not change it.\n",
    "Do not change the location of the data or data directory. Use only relative paths to access the data.\n",
    "Dataset Instructions\n",
    "The dataset contains daily product sales data for 5 years across retail stores.\n",
    "The dataset contains the following attributes: year, month, day, country, state, city, store, category, product, sales.\n",
    "The dataset is available at this location \"dataset/dataset.csv\" from the current path.\n",
    "A pandas.head() should give you a general idea about the dataset structure and information about the column names as referenced above."
   ]
  },
  {
   "cell_type": "code",
   "execution_count": null,
   "metadata": {},
   "outputs": [],
   "source": [
    "import pandas as pd\n",
    "import numpy as np\n",
    "import matplotlib.pyplot as plt\n",
    "from mpl_toolkits.mplot3d import Axes3D"
   ]
  },
  {
   "cell_type": "markdown",
   "metadata": {},
   "source": [
    "Assignment Instructions¶\n",
    "Section 1 of the assignment involves aggregating product sales by the year, country and product category.\n",
    "Section 2 of the assignment involves plotting values from the dataset to visualize them in the form of a data cube.\n",
    "Aggregate by year\n",
    "Aggregate the product sales by year. Find and return the total sales made in the year from the dataset.\n",
    "Return the sales information in the form of a python dictionary where the key is the year and the value is the total sales for that year."
   ]
  },
  {
   "cell_type": "code",
   "execution_count": null,
   "metadata": {},
   "outputs": [],
   "source": [
    "import pandas as pd\n",
    "\n",
    "def aggregate_by_year():\n",
    "    # Reading dataset\n",
    "    df = pd.read_csv('./dataset/dataset.csv')\n",
    "    d = dict()\n",
    "\n",
    "    # Grouping the data by year and summing up the sales for each year\n",
    "    year_sales = df.groupby('year')['sales'].sum()\n",
    "\n",
    "    # Converting the groupby result to a dictionary\n",
    "    d = year_sales.to_dict()\n",
    "\n",
    "    return d"
   ]
  },
  {
   "cell_type": "markdown",
   "metadata": {},
   "source": [
    "Aggregate by country\n",
    "Aggregate the product sales by country. Find and return the total sales made in each country from the dataset.\n",
    "Return the sales information in the form of a python dictionary where the key is the country and the value is the total sales for that country."
   ]
  },
  {
   "cell_type": "code",
   "execution_count": null,
   "metadata": {},
   "outputs": [],
   "source": [
    "import pandas as pd\n",
    "\n",
    "def aggregate_by_country():\n",
    "    # Reading dataset\n",
    "    df = pd.read_csv('./dataset/dataset.csv')\n",
    "    d = dict()\n",
    "\n",
    "    # Grouping the data by country and summing up the sales for each country\n",
    "    country_sales = df.groupby('country')['sales'].sum()\n",
    "\n",
    "    # Converting the groupby result to a dictionary\n",
    "    d = country_sales.to_dict()\n",
    "\n",
    "    return d"
   ]
  },
  {
   "cell_type": "markdown",
   "metadata": {},
   "source": [
    "Aggregate by category\n",
    "Aggregate the product sales by category. Find and return the total sales made across each country from the dataset.\n",
    "Return the sales information in the form of a python dictionary where the key is the product category and the value is the total sales for that category."
   ]
  },
  {
   "cell_type": "code",
   "execution_count": null,
   "metadata": {},
   "outputs": [],
   "source": [
    "import pandas as pd\n",
    "\n",
    "def aggregate_by_category():\n",
    "    # Reading dataset\n",
    "    df = pd.read_csv('./dataset/dataset.csv')\n",
    "    d = dict()\n",
    "\n",
    "    # Grouping the data by product category and summing up the sales for each category\n",
    "    category_sales = df.groupby('category')['sales'].sum()\n",
    "\n",
    "    # Converting the groupby result to a dictionary\n",
    "    d = category_sales.to_dict()\n",
    "\n",
    "    return d"
   ]
  },
  {
   "cell_type": "markdown",
   "metadata": {},
   "source": [
    "Section 2: Visualizing Product Sales data\n",
    "Visualize the dataset in the form of a data cube where the year is on the x-axis, product category on the y-axis and aggregated sales is on the z-axis.\n",
    "Return your x, y and z values as python lists in the plot_data_cube function.\n",
    "The plot_data_cube() function only needs to return the x, y and z values as python lists. It does not need to plot the 3D datacube, as this will be done in the next cell using these x, y and z values.\n",
    "The final aggregated values may look something like:\n",
    "\n",
    "year\tcategory\ttotalsales\n",
    "2015\taccessories\t1116319\n",
    "2015\tbikes\t1086039\n",
    "2015\tclothing\t1087927\n",
    "2015\tcomponents\t1094879\n",
    "2016\taccessories\t1083479\n",
    "...\t...\t...\n",
    "Aggregated sales for the specific example should be across all (5) years and all (4) product categories."
   ]
  },
  {
   "cell_type": "code",
   "execution_count": null,
   "metadata": {},
   "outputs": [],
   "source": [
    "import pandas as pd\n",
    "\n",
    "def plot_data_cube():\n",
    "    # Reading dataset\n",
    "    df = pd.read_csv(\"./dataset/dataset.csv\")\n",
    "\n",
    "    # Grouping the data by year and product category and summing up the sales for each combination\n",
    "    data_cube = df.groupby(['year', 'category'])['sales'].sum().reset_index()\n",
    "\n",
    "    # Extracting x, y, and z values from the data cube\n",
    "    x = data_cube['year'].tolist()\n",
    "    y = data_cube['category'].tolist()\n",
    "    z = data_cube['sales'].tolist()\n",
    "\n",
    "    return x, y, z\n"
   ]
  },
  {
   "cell_type": "markdown",
   "metadata": {},
   "source": [
    "The cell below can be used to test our datacube plot. You don't need to modify this. Simply execute the cell below and observe the output.¶\n",
    "Once the plot_data_cube() function above has been completed we can test it by running the cell below. Running the cell below should simply output a scatter plot based on your plot_data_cube() function. Your scatter plot may not look exactly the same, but may look something like this:\n",
    "\n",
    "datacube.png"
   ]
  },
  {
   "cell_type": "code",
   "execution_count": null,
   "metadata": {},
   "outputs": [],
   "source": [
    "# Run this cell to test and plot our plot_data_cube() function\n",
    "x, y, z = plot_data_cube()\n",
    "y_codes = (list(pd.Categorical(y).codes)) # To use scatter3D() function we need to convert to categorical codes\n",
    "fig = plt.figure(figsize=(12, 8))\n",
    "ax = fig.add_subplot(projection='3d')\n",
    "ax.scatter(x,y_codes,z)\n",
    "\n",
    "plt.xticks(np.arange(min(x), max(x)+1, 1))\n",
    "plt.yticks(np.arange(min(y_codes), max(y_codes)+1, 1))\n",
    "ax.set_yticklabels(y)\n",
    "\n",
    "ax.set_xlabel('Year')\n",
    "ax.set_ylabel('Category')\n",
    "ax.set_zlabel('TotalSales')\n",
    "ax.set_title('Datacube: Aggregate Sales across year and category')\n",
    "plt.show() "
   ]
  },
  {
   "cell_type": "markdown",
   "metadata": {},
   "source": [
    "Congratulations! All test cases in this cell passed."
   ]
  }
 ],
 "metadata": {
  "kernelspec": {
   "display_name": "Python 3",
   "language": "python",
   "name": "python3"
  },
  "language_info": {
   "name": "python",
   "version": "3.12.2"
  }
 },
 "nbformat": 4,
 "nbformat_minor": 2
}
