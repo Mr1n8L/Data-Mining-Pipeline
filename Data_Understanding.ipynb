{
 "cells": [
  {
   "cell_type": "markdown",
   "metadata": {},
   "source": [
    "Grader Output\n",
    "data-understanding\n",
    "20.00 / 20.00 points earned\n",
    "\n",
    "2 / 2 autograded cells passed\n",
    "\n",
    "Graded Cells\n",
    "Cell 4 (cell-76c2821773e901c7)\n",
    "Passed | 10.00 / 10.00 points\n",
    "View feedback\n",
    "Cell 8 (cell-9b636ed7d9b3248d)\n",
    "Passed | 10.00 / 10.00 points\n",
    "View feedback\n",
    "Mrinal N Jani\n",
    "Homework 1\n",
    "Name: <\n",
    "insert name here>\n",
    "Remember that you are encouraged to discuss the problems with your instructors and classmates, but you must write all code and solutions on your own.\n",
    "\n",
    "The rules to be followed for the assignment are:\n",
    "\n",
    "Do NOT load additional packages beyond what we've shared in the cells below.\n",
    "Some problems with code may be autograded. If we provide a function or class API do not change it.\n",
    "Do not change the location of the data or data directory. Use only relative paths to access the data."
   ]
  },
  {
   "cell_type": "code",
   "execution_count": null,
   "metadata": {},
   "outputs": [],
   "source": [
    "import argparse\n",
    "import pandas as pd\n",
    "import numpy as np\n",
    "import pickle\n",
    "from pathlib import Path"
   ]
  },
  {
   "cell_type": "markdown",
   "metadata": {},
   "source": [
    "Problem 1 - [10 points]\n",
    "The Function below should return the following attributes for the ith column:\n",
    "\n",
    "Number of objects\n",
    "The minimum value\n",
    "The maximum value\n",
    "The mean value\n",
    "The standard deviation value\n",
    "The Q1 value\n",
    "The median value\n",
    "The Q3 value\n",
    "The IQR value\n",
    "Note:\n",
    "\n",
    "A sample dataset to test your code has been provided in the location \"data/dataset.csv\". Please maintain this as it would be necessary while grading.\n",
    "Do not change the variable names of the returned values.\n",
    "After calculating each of those values, assign them to the corresponding value that is being returned.\n",
    "The ithAttribute value can range from 0 - 10\n",
    "Student's answer(Top)"
   ]
  },
  {
   "cell_type": "code",
   "execution_count": null,
   "metadata": {},
   "outputs": [],
   "source": [
    "import argparse\n",
    "import pandas as pd\n",
    "import numpy as np\n",
    "import pickle\n",
    "from pathlib import Path\n",
    "\n",
    "def calculate(dataFile, col_num):\n",
    "    \"\"\"\n",
    "    Input Parameters:\n",
    "        dataFile: The dataset file.\n",
    "        ithAttre: The ith attribute for which the various properties must be calculated.\n",
    "\n",
    "    Default value of 0, infinity, -infinity are assigned to all the variables as required.\n",
    "    \"\"\"\n",
    "    numObj, minValue, maxValue, mean, stdev, Q1, median, Q3, IQR = [0, float('inf'), float('-inf'), 0, 0, 0, 0, 0, 0]\n",
    "\n",
    "    # Load the dataset using pandas\n",
    "    df = pd.read_csv(dataFile)\n",
    "\n",
    "    # Check if col_num is within the valid range\n",
    "    if col_num < 0 or col_num > 10:\n",
    "        raise ValueError(\"col_num should be between 0 and 10\")\n",
    "\n",
    "    # Select the ith column\n",
    "    column_data = df.iloc[:, col_num]\n",
    "\n",
    "    # Calculate the required statistics\n",
    "    numObj = len(column_data)\n",
    "    minValue = np.min(column_data)\n",
    "    maxValue = np.max(column_data)\n",
    "    mean = np.mean(column_data)\n",
    "    stdev = np.std(column_data)\n",
    "    Q1 = np.percentile(column_data, 25)\n",
    "    median = np.median(column_data)\n",
    "    Q3 = np.percentile(column_data, 75)\n",
    "    IQR = Q3 - Q1\n",
    "    \n",
    "    return numObj, minValue, maxValue, mean, stdev, Q1, median, Q3, IQR"
   ]
  },
  {
   "cell_type": "markdown",
   "metadata": {},
   "source": [
    "\n",
    "Grade cell: cell-76c2821773e901c7Score: 10.0 / 10.0 (Top)\n",
    "'''\n",
    "This cell has hidden test cases that will run after you submit your assignment. \n",
    "You can troubleshoot using the unit tests we shared below.\n",
    "'''\n",
    "\n",
    "Hidden Tests Redacted\n",
    "Congratulations! All test cases in this cell passed.\n",
    "Here are the unit tests. You don't need to modify them. Simply execute the cell and observe the output."
   ]
  },
  {
   "cell_type": "code",
   "execution_count": null,
   "metadata": {},
   "outputs": [],
   "source": [
    "\n",
    "import unittest\n",
    "\n",
    "class TestKnn(unittest.TestCase):\n",
    "    def setUp(self):\n",
    "        self.loc = \"data/dataset.csv\"\n",
    "        file = open('data/testing', 'rb')\n",
    "        self.data = pickle.load(file)\n",
    "        file.close()\n",
    "        \n",
    "    def test0(self):\n",
    "        \"\"\"\n",
    "        Test the label counter \n",
    "        \"\"\"\n",
    "        self.column = self.data[0]\n",
    "        result = calculate(self.loc,self.column)\n",
    "        self.assertEqual(result[0],self.data[1][0])\n",
    "        self.assertAlmostEqual(result[1],self.data[1][1], places = 3)\n",
    "        self.assertAlmostEqual(result[2],self.data[1][2], places = 3)\n",
    "        self.assertAlmostEqual(result[3],self.data[1][3], places = 3)\n",
    "        self.assertAlmostEqual(result[4],self.data[1][4], places = 3)\n",
    "        self.assertAlmostEqual(result[5],self.data[1][5], places = 3)\n",
    "        self.assertAlmostEqual(result[6],self.data[1][6], places = 3)\n",
    "        self.assertAlmostEqual(result[7],self.data[1][7], places = 3)\n",
    "        self.assertAlmostEqual(result[8],self.data[1][8], places = 3)\n",
    "   \n",
    "tests = TestKnn()\n",
    "tests_to_run = unittest.TestLoader().loadTestsFromModule(tests)\n",
    "unittest.TextTestRunner().run(tests_to_run)\n"
   ]
  },
  {
   "cell_type": "markdown",
   "metadata": {},
   "source": [
    "Problem 2 - [10 Points]\n",
    "The helper function func() below will be used to help generate a scatter plot of the columns CO on the x-axis and AFDP on the y-axis and should return the following:\n",
    "\n",
    "Return the x values, y values, title, x-label and the y-label\n",
    "Notes:\n",
    "\n",
    "The dataset is available in \"./data/dataset.csv\"\n",
    "\n",
    "Hidden tests are run against x and y values. These should be array-like objects (list or series).\n",
    "Use the cell below to add your code.\n",
    "\n",
    "Student's answer(Top)\n",
    "# Scatter plot of columns with attributes CO on x-axis and AFDP on y-axis\n",
    "# Return the x values, y values, title, x-label and the y-label\n",
    "# The dataset is available in \"./data/dataset.csv\""
   ]
  },
  {
   "cell_type": "code",
   "execution_count": null,
   "metadata": {},
   "outputs": [],
   "source": [
    "\n",
    "import argparse\n",
    "import pandas as pd\n",
    "import numpy as np\n",
    "import pickle\n",
    "from pathlib import Path\n",
    "import pandas as pd\n",
    "import numpy as np\n",
    "import matplotlib.pyplot as plt\n",
    "\n",
    "def func():\n",
    "    # Load the dataset from the CSV file\n",
    "    dataset_path = \"./data/dataset.csv\"\n",
    "    df = pd.read_csv(dataset_path)\n",
    "\n",
    "    # Extract CO and AFDP columns\n",
    "    x = df['CO']\n",
    "    y = df['AFDP']\n",
    "\n",
    "    # Set title, x-label, and y-label\n",
    "    title = 'Scatter Plot of CO vs. AFDP'\n",
    "    x_label = 'CO'\n",
    "    y_label = 'AFDP'\n",
    "\n",
    "    return x, y, title, x_label, y_label"
   ]
  },
  {
   "cell_type": "markdown",
   "metadata": {},
   "source": [
    "\n",
    "The cell below can be used to test our scatter plot. You don't need to modify this. Simply execute the cell below and observe the output.\n",
    "Once the func() function above has been completed we can test it by running the cell below. Running the cell below should simply output a scatter plot based on your func() function. Your scatter plot may not look exactly the same, but may look something like this:\n",
    "\n",
    "scatter_plot.png"
   ]
  },
  {
   "cell_type": "code",
   "execution_count": null,
   "metadata": {},
   "outputs": [],
   "source": [
    "\n",
    "# Testing the func() function\n",
    "x, y, title, x_label, y_label = func()\n",
    "plt.scatter(x, y)\n",
    "plt.title(title)\n",
    "plt.xlabel(x_label)\n",
    "plt.ylabel(y_label)"
   ]
  },
  {
   "cell_type": "markdown",
   "metadata": {},
   "source": [
    "Grade cell: cell-9b636ed7d9b3248dScore: 10.0 / 10.0 (Top)\n",
    "'''\n",
    "This cell has hidden test cases that will run after you submit your assignment. \n",
    "You can troubleshoot by calling the function and checking return types and values.\n",
    "'''\n",
    "\n",
    "Hidden Tests Redacted\n",
    "Congratulations! All test cases in this cell passed."
   ]
  }
 ],
 "metadata": {
  "kernelspec": {
   "display_name": "Python 3",
   "language": "python",
   "name": "python3"
  },
  "language_info": {
   "name": "python",
   "version": "3.12.2"
  }
 },
 "nbformat": 4,
 "nbformat_minor": 2
}
